{
 "cells": [
  {
   "cell_type": "markdown",
   "id": "2f83fc3f",
   "metadata": {},
   "source": [
    "Este principio del codigo es para importar todo lo que vamos a usar como pandas y numpy, ponemos que ciudad vamos a usar, el pais y la api de la pagina donde sacamos la informacion, tuvimos que hacer otro archivo llamado keys.py para usar keys\n"
   ]
  },
  {
   "cell_type": "code",
   "execution_count": 33,
   "id": "76b27901",
   "metadata": {},
   "outputs": [],
   "source": [
    "import requests\n",
    "import pandas as pd\n",
    "import numpy as np\n",
    "from keys import *\n",
    "\n",
    "city = \"Buenos Aires\"\n",
    "country = \"ARG\"\n",
    "response = requests.get(f'http://api.openweathermap.org/data/2.5/forecast/?q={city},{country}&appid={OWM_key}&units=metric&lang=en')\n",
    "\n"
   ]
  },
  {
   "cell_type": "markdown",
   "id": "b86834df",
   "metadata": {},
   "source": [
    "Esta parte de el codigo marca la respuesta, todo lo que nos va a dar como la hora, temperatura, humedad y masdemas crea el Dataframe y lo imprime"
   ]
  },
  {
   "cell_type": "code",
   "execution_count": 35,
   "id": "55d756b0",
   "metadata": {},
   "outputs": [],
   "source": [
    "import sqlalchemy\n",
    "import pymysql\n",
    "# connection details for the local mysql database\n",
    "schema = \"gans\"\n",
    "host = \"127.0.0.1\"\n",
    "user = \"root\"\n",
    "password = \"fer261165\"\n",
    "port = 3306\n",
    "con = f'mysql+pymysql://{user}:{password}@{host}:{port}/{schema}'"
   ]
  },
  {
   "cell_type": "code",
   "execution_count": 37,
   "id": "d1e8185a",
   "metadata": {},
   "outputs": [
    {
     "data": {
      "text/plain": [
       "40"
      ]
     },
     "execution_count": 37,
     "metadata": {},
     "output_type": "execute_result"
    }
   ],
   "source": [
    "# send the weather data to the database\n",
    "df.to_sql('weather_data', if_exists = 'append', con = con, index=False)"
   ]
  },
  {
   "cell_type": "code",
   "execution_count": 34,
   "id": "7803732c",
   "metadata": {},
   "outputs": [
    {
     "name": "stdout",
     "output_type": "stream",
     "text": [
      "      weather_datetime  temperature  humidity weather_status  wind  rain_qty  \\\n",
      "0  2025-10-30 00:00:00        14.84        71           Rain  6.76      0.24   \n",
      "1  2025-10-30 03:00:00        14.65        70           Rain  6.26      0.13   \n",
      "2  2025-10-30 06:00:00        13.73        71         Clouds  5.64       NaN   \n",
      "3  2025-10-30 09:00:00        12.52        74         Clouds  4.18       NaN   \n",
      "4  2025-10-30 12:00:00        13.54        66         Clouds  4.50       NaN   \n",
      "\n",
      "   snow municipality_iso_country  \n",
      "0   NaN                      ARG  \n",
      "1   NaN                      ARG  \n",
      "2   NaN                      ARG  \n",
      "3   NaN                      ARG  \n",
      "4   NaN                      ARG  \n"
     ]
    }
   ],
   "source": [
    "data = response.json()\n",
    "\n",
    "# Extract forecast list\n",
    "forecast_list = data.get('list', [])\n",
    "\n",
    "# Prepare lists for DataFrame columns\n",
    "times = []\n",
    "temperatures = []\n",
    "humidities = []\n",
    "weather_statuses = []\n",
    "wind_speeds = []\n",
    "rain_volumes = []\n",
    "snow_volumes = []\n",
    "\n",
    "for entry in forecast_list:\n",
    "    times.append(entry.get('dt_txt', np.nan))\n",
    "    temperatures.append(entry.get('main', {}).get('temp', np.nan))\n",
    "    humidities.append(entry.get('main', {}).get('humidity', np.nan))\n",
    "    weather_statuses.append(entry.get('weather', [{}])[0].get('main', np.nan))\n",
    "    wind_speeds.append(entry.get('wind', {}).get('speed', np.nan))\n",
    "    rain_volumes.append(entry.get('rain', {}).get('3h', np.nan))\n",
    "    snow_volumes.append(entry.get('snow', {}).get('3h', np.nan))\n",
    "\n",
    "# Create DataFrame\n",
    "df = pd.DataFrame({\n",
    "    'weather_datetime': times,\n",
    "    'temperature': temperatures,\n",
    "    'humidity': humidities,\n",
    "    'weather_status': weather_statuses,\n",
    "    'wind': wind_speeds,\n",
    "    'rain_qty': rain_volumes,\n",
    "    'snow': snow_volumes,\n",
    "    'municipality_iso_country': 'ARG'\n",
    "})\n",
    "\n",
    "print(df.head())"
   ]
  }
 ],
 "metadata": {
  "kernelspec": {
   "display_name": "Python 3",
   "language": "python",
   "name": "python3"
  },
  "language_info": {
   "codemirror_mode": {
    "name": "ipython",
    "version": 3
   },
   "file_extension": ".py",
   "mimetype": "text/x-python",
   "name": "python",
   "nbconvert_exporter": "python",
   "pygments_lexer": "ipython3",
   "version": "3.12.2"
  }
 },
 "nbformat": 4,
 "nbformat_minor": 5
}
