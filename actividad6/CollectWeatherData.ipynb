{
 "cells": [
  {
   "cell_type": "markdown",
   "id": "2f83fc3f",
   "metadata": {},
   "source": [
    "Este principio del codigo es para importar todo lo que vamos a usar como pandas y numpy, ponemos que ciudad vamos a usar, el pais y la api de la pagina donde sacamos la informacion, tuvimos que hacer otro archivo llamado keys.py para usar keys\n"
   ]
  },
  {
   "cell_type": "code",
   "execution_count": 21,
   "id": "76b27901",
   "metadata": {},
   "outputs": [],
   "source": [
    "import requests\n",
    "import pandas as pd\n",
    "import numpy as np\n",
    "from keys import *\n",
    "\n",
    "city = \"Buenos Aires\"\n",
    "country = \"ARG\"\n",
    "response = requests.get(f'http://api.openweathermap.org/data/2.5/forecast/?q={city},{country}&appid={OWM_key}&units=metric&lang=en')\n",
    "\n"
   ]
  },
  {
   "cell_type": "markdown",
   "id": "b86834df",
   "metadata": {},
   "source": [
    "Esta parte de el codigo marca la respuesta, todo lo que nos va a dar como la hora, temperatura, humedad y masdemas crea el Dataframe y lo imprime"
   ]
  },
  {
   "cell_type": "code",
   "execution_count": null,
   "id": "7803732c",
   "metadata": {},
   "outputs": [
    {
     "name": "stdout",
     "output_type": "stream",
     "text": [
      "                  time  temperature  humidity weather_status  wind_speed  \\\n",
      "0  2025-09-25 00:00:00        12.71        68          Clear        7.71   \n",
      "1  2025-09-25 03:00:00        12.13        70          Clear        7.61   \n",
      "2  2025-09-25 06:00:00        10.49        70         Clouds        7.22   \n",
      "3  2025-09-25 09:00:00         9.85        74         Clouds        6.58   \n",
      "4  2025-09-25 12:00:00        10.45        71         Clouds        6.63   \n",
      "\n",
      "   rain_volume_3h  snow_volume_3h  \n",
      "0             NaN             NaN  \n",
      "1             NaN             NaN  \n",
      "2             NaN             NaN  \n",
      "3             NaN             NaN  \n",
      "4             NaN             NaN  \n"
     ]
    }
   ],
   "source": [
    "data = response.json()\n",
    "print(data)\n",
    "\n",
    "# Extract forecast list\n",
    "forecast_list = data.get('list', [])\n",
    "\n",
    "# Es todo lo que vamos a sacar de la api, la informacion que nos interesa\n",
    "times = []\n",
    "temperatures = []\n",
    "humidities = []\n",
    "weather_statuses = []\n",
    "wind_speeds = []\n",
    "rain_volumes = []\n",
    "snow_volumes = []\n",
    "\n",
    "#Lo muestra\n",
    "for entry in forecast_list:\n",
    "    times.append(entry.get('dt_txt', np.nan))\n",
    "    temperatures.append(entry.get('main', {}).get('temp', np.nan))\n",
    "    humidities.append(entry.get('main', {}).get('humidity', np.nan))\n",
    "    weather_statuses.append(entry.get('weather', [{}])[0].get('main', np.nan))\n",
    "    wind_speeds.append(entry.get('wind', {}).get('speed', np.nan))\n",
    "    rain_volumes.append(entry.get('rain', {}).get('3h', np.nan))\n",
    "    snow_volumes.append(entry.get('snow', {}).get('3h', np.nan))\n",
    "\n",
    "# Create DataFrame\n",
    "df = pd.DataFrame({\n",
    "    'time': times,\n",
    "    'temperature': temperatures,\n",
    "    'humidity': humidities,\n",
    "    'weather_status': weather_statuses,\n",
    "    'wind_speed': wind_speeds,\n",
    "    'rain_volume_3h': rain_volumes,\n",
    "    'snow_volume_3h': snow_volumes\n",
    "})\n",
    "\n",
    "#Lo imprime para que lo veamos\n",
    "print(df.head())"
   ]
  }
 ],
 "metadata": {
  "kernelspec": {
   "display_name": "Python 3",
   "language": "python",
   "name": "python3"
  },
  "language_info": {
   "codemirror_mode": {
    "name": "ipython",
    "version": 3
   },
   "file_extension": ".py",
   "mimetype": "text/x-python",
   "name": "python",
   "nbconvert_exporter": "python",
   "pygments_lexer": "ipython3",
   "version": "3.12.2"
  }
 },
 "nbformat": 4,
 "nbformat_minor": 5
}
