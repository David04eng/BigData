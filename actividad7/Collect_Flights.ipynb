{
 "cells": [
  {
   "cell_type": "markdown",
   "id": "248997c1",
   "metadata": {},
   "source": [
    "Importa varias cosas, request para llamar a HTTPS, JSON para convertir los archivos, IPython.display los muestra para que sean mas legibles y keys agarra lo que esta en los archivos keus.py"
   ]
  },
  {
   "cell_type": "code",
   "execution_count": 19,
   "id": "0228c072",
   "metadata": {},
   "outputs": [],
   "source": [
    "import requests\n",
    "import json\n",
    "from IPython.display import JSON\n",
    "from keys import *"
   ]
  },
  {
   "cell_type": "markdown",
   "id": "bfba7e48",
   "metadata": {},
   "source": [
    "Se define la URL, de donde e va a agarrar y las horas, cosas como de donde llega, si esta disponible, si es privado o con cargo, hace la solicitud para la API"
   ]
  },
  {
   "cell_type": "code",
   "execution_count": 20,
   "id": "848c7bd2",
   "metadata": {},
   "outputs": [],
   "source": [
    "#be careful not to run too often as there is a maximum of 200 api calls per month\n",
    "\n",
    "url = \"https://aerodatabox.p.rapidapi.com/flights/airports/icao/SAEZ/2025-09-01T08:00/2025-09-01T20:00\"\n",
    "\n",
    "querystring = {\"withLeg\":\"true\",\"direction\":\"Arrival\",\"withCancelled\":\"true\",\"withCodeshared\":\"true\",\"withCargo\":\"true\",\"withPrivate\":\"true\",\"withLocation\":\"false\"}\n",
    "\n",
    "headers = {\n",
    "    'x-rapidapi-host': \"aerodatabox.p.rapidapi.com\",\n",
    "    'x-rapidapi-key': flights_key\n",
    "    }\n",
    "\n",
    "response = requests.request(\"GET\", url, headers=headers, params=querystring)"
   ]
  },
  {
   "cell_type": "markdown",
   "id": "280c16a4",
   "metadata": {},
   "source": [
    "Si el codigo es 200 da el .json, se lee el archivo si existe, agregal os datos que existen y lo guarda, muestra que si se pudo y si no da error de la API"
   ]
  },
  {
   "cell_type": "code",
   "execution_count": 21,
   "id": "da7a454f",
   "metadata": {},
   "outputs": [
    {
     "name": "stdout",
     "output_type": "stream",
     "text": [
      "Data appended to data.json file.\n"
     ]
    }
   ],
   "source": [
    "if response.status_code == 200:\n",
    "    new_data = response.json()\n",
    "\n",
    "    try:\n",
    "        with open(\"data.json\", \"r\") as json_file:\n",
    "            existing_data = json.load(json_file)\n",
    "    except (FileNotFoundError, json.decoder.JSONDecodeError):\n",
    "        existing_data = []\n",
    "\n",
    "    existing_data.append(new_data)\n",
    "\n",
    "    with open(\"data.json\", \"w\") as json_file:\n",
    "        json.dump(existing_data, json_file, indent=4)\n",
    "        print(\"Data appended to data.json file.\")\n",
    "else:\n",
    "    print(\"Failed to retrieve data from the API. Status code:\", response.status_code)"
   ]
  },
  {
   "cell_type": "markdown",
   "id": "f36bb9b0",
   "metadata": {},
   "source": [
    "Responde todo de cuando llegan los vuelos, da la hora cuando llegaron, el numero, a donde llegaron, a dodne se van, de que aeropuerto y de donde, que tipo de avion fue y el model y finalmente de que aerolinea fue "
   ]
  },
  {
   "cell_type": "code",
   "execution_count": 24,
   "id": "f8363a23",
   "metadata": {},
   "outputs": [],
   "source": [
    "flight_arrivals = response.json()\n",
    "\n",
    "for flight in flight_arrivals:\n",
    "    flight_arrivals['arrivals'][0]['arrival']['scheduledTime']\n",
    "    flight_arrivals['arrivals'][0]['number']\n",
    "    flight_arrivals['arrivals'][0]['arrival']['terminal']\n",
    "    flight_arrivals['arrivals'][0]['departure']['airport']['name']\n",
    "    flight_arrivals['arrivals'][0]['aircraft']['model']\n",
    "    flight_arrivals['arrivals'][0]['airline']['name']"
   ]
  },
  {
   "cell_type": "markdown",
   "id": "536592e7",
   "metadata": {},
   "source": [
    "Toma los vuelos, a que hora esta escrito que va a llegar, el numero de vuelo, de donde, la aerolinea y el avion, hace la tabla de toda la info y muestra la tabla"
   ]
  },
  {
   "cell_type": "code",
   "execution_count": 26,
   "id": "932d0ade",
   "metadata": {},
   "outputs": [
    {
     "data": {
      "text/html": [
       "<div>\n",
       "<style scoped>\n",
       "    .dataframe tbody tr th:only-of-type {\n",
       "        vertical-align: middle;\n",
       "    }\n",
       "\n",
       "    .dataframe tbody tr th {\n",
       "        vertical-align: top;\n",
       "    }\n",
       "\n",
       "    .dataframe thead th {\n",
       "        text-align: right;\n",
       "    }\n",
       "</style>\n",
       "<table border=\"1\" class=\"dataframe\">\n",
       "  <thead>\n",
       "    <tr style=\"text-align: right;\">\n",
       "      <th></th>\n",
       "      <th>flight_number</th>\n",
       "      <th>from</th>\n",
       "      <th>airline</th>\n",
       "      <th>aircraft</th>\n",
       "      <th>Scheduled_arrival_time.utc</th>\n",
       "      <th>Scheduled_arrival_time.local</th>\n",
       "    </tr>\n",
       "  </thead>\n",
       "  <tbody>\n",
       "    <tr>\n",
       "      <th>0</th>\n",
       "      <td>UX 41</td>\n",
       "      <td>Madrid</td>\n",
       "      <td>Air Europa</td>\n",
       "      <td>Boeing 787-9</td>\n",
       "      <td>2025-09-01 10:35Z</td>\n",
       "      <td>2025-09-01 07:35-03:00</td>\n",
       "    </tr>\n",
       "    <tr>\n",
       "      <th>0</th>\n",
       "      <td>AR 1670Q</td>\n",
       "      <td>Buenos Aires</td>\n",
       "      <td>Aerolineas Argentinas</td>\n",
       "      <td>Boeing 737-800</td>\n",
       "      <td>2025-09-01 11:27Z</td>\n",
       "      <td>2025-09-01 08:27-03:00</td>\n",
       "    </tr>\n",
       "    <tr>\n",
       "      <th>0</th>\n",
       "      <td>AA 907</td>\n",
       "      <td>Miami</td>\n",
       "      <td>American</td>\n",
       "      <td>Boeing 787-8</td>\n",
       "      <td>2025-09-01 11:55Z</td>\n",
       "      <td>2025-09-01 08:55-03:00</td>\n",
       "    </tr>\n",
       "    <tr>\n",
       "      <th>0</th>\n",
       "      <td>LH 510</td>\n",
       "      <td>Frankfurt-am-Main</td>\n",
       "      <td>Lufthansa</td>\n",
       "      <td>Boeing 747-8</td>\n",
       "      <td>2025-09-01 09:25Z</td>\n",
       "      <td>2025-09-01 06:25-03:00</td>\n",
       "    </tr>\n",
       "    <tr>\n",
       "      <th>0</th>\n",
       "      <td>AR 1469</td>\n",
       "      <td>Tucumán</td>\n",
       "      <td>Aerolineas Argentinas</td>\n",
       "      <td>Boeing 737-800</td>\n",
       "      <td>2025-09-01 12:45Z</td>\n",
       "      <td>2025-09-01 09:45-03:00</td>\n",
       "    </tr>\n",
       "  </tbody>\n",
       "</table>\n",
       "</div>"
      ],
      "text/plain": [
       "  flight_number               from                airline        aircraft  \\\n",
       "0         UX 41             Madrid             Air Europa    Boeing 787-9   \n",
       "0      AR 1670Q       Buenos Aires  Aerolineas Argentinas  Boeing 737-800   \n",
       "0        AA 907              Miami               American    Boeing 787-8   \n",
       "0        LH 510  Frankfurt-am-Main              Lufthansa    Boeing 747-8   \n",
       "0       AR 1469            Tucumán  Aerolineas Argentinas  Boeing 737-800   \n",
       "\n",
       "  Scheduled_arrival_time.utc Scheduled_arrival_time.local  \n",
       "0          2025-09-01 10:35Z       2025-09-01 07:35-03:00  \n",
       "0          2025-09-01 11:27Z       2025-09-01 08:27-03:00  \n",
       "0          2025-09-01 11:55Z       2025-09-01 08:55-03:00  \n",
       "0          2025-09-01 09:25Z       2025-09-01 06:25-03:00  \n",
       "0          2025-09-01 12:45Z       2025-09-01 09:45-03:00  "
      ]
     },
     "execution_count": 26,
     "metadata": {},
     "output_type": "execute_result"
    }
   ],
   "source": [
    "def flight_extraction(flight):\n",
    "    return pd.json_normalize({\n",
    "        'Scheduled_arrival_time': flight['arrival'].get('scheduledTime', nan),\n",
    "        'flight_number': flight.get('number', nan),\n",
    "        'from': flight.get('departure', {}).get('airport', {}).get('name', nan),\n",
    "        'airline': flight.get('airline', {}).get('name', nan),\n",
    "        'aircraft': flight.get('aircraft', {}).get('model', nan)\n",
    "    })\n",
    "\n",
    "flight_arrivals_df = pd.concat(\n",
    "    [flight_extraction(flight) for flight in flight_arrivals['arrivals']]\n",
    ")\n",
    "\n",
    "flight_arrivals_df.head()"
   ]
  }
 ],
 "metadata": {
  "kernelspec": {
   "display_name": "Python 3",
   "language": "python",
   "name": "python3"
  },
  "language_info": {
   "codemirror_mode": {
    "name": "ipython",
    "version": 3
   },
   "file_extension": ".py",
   "mimetype": "text/x-python",
   "name": "python",
   "nbconvert_exporter": "python",
   "pygments_lexer": "ipython3",
   "version": "3.12.2"
  }
 },
 "nbformat": 4,
 "nbformat_minor": 5
}
